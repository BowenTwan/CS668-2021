{
 "metadata": {
  "language_info": {
   "codemirror_mode": {
    "name": "ipython",
    "version": 3
   },
   "file_extension": ".py",
   "mimetype": "text/x-python",
   "name": "python",
   "nbconvert_exporter": "python",
   "pygments_lexer": "ipython3",
   "version": "3.8.5-final"
  },
  "orig_nbformat": 2,
  "kernelspec": {
   "name": "python3",
   "display_name": "Python 3.8.5 64-bit ('260_Python': conda)",
   "metadata": {
    "interpreter": {
     "hash": "aa3d6490af8aef6045078465a6d43674d4154564c7ce69cb86b5e55268f426c4"
    }
   }
  }
 },
 "nbformat": 4,
 "nbformat_minor": 2,
 "cells": [
  {
   "cell_type": "code",
   "execution_count": 1,
   "metadata": {},
   "outputs": [],
   "source": [
    "import pandas as pd\n",
    "import yfinance as yf"
   ]
  },
  {
   "source": [
    "## Prepare data\n",
    "### loading data"
   ],
   "cell_type": "markdown",
   "metadata": {}
  },
  {
   "cell_type": "code",
   "execution_count": 2,
   "metadata": {},
   "outputs": [
    {
     "output_type": "execute_result",
     "data": {
      "text/plain": [
       "         Date       Open       High        Low      Close     Volume\n",
       "0  2011-02-09  10.926702  11.043910  10.916859  11.018068  482745200\n",
       "1  2011-02-10  10.994382  11.074673  10.705516  10.906707  928550000\n",
       "2  2011-02-11  10.913166  11.006992  10.875942  10.977768  367572800\n",
       "3  2011-02-14  10.975924  11.058675  10.973463  11.049447  310416400\n",
       "4  2011-02-15  11.049754  11.073750  10.999304  11.071596  284174800"
      ],
      "text/html": "<div>\n<style scoped>\n    .dataframe tbody tr th:only-of-type {\n        vertical-align: middle;\n    }\n\n    .dataframe tbody tr th {\n        vertical-align: top;\n    }\n\n    .dataframe thead th {\n        text-align: right;\n    }\n</style>\n<table border=\"1\" class=\"dataframe\">\n  <thead>\n    <tr style=\"text-align: right;\">\n      <th></th>\n      <th>Date</th>\n      <th>Open</th>\n      <th>High</th>\n      <th>Low</th>\n      <th>Close</th>\n      <th>Volume</th>\n    </tr>\n  </thead>\n  <tbody>\n    <tr>\n      <th>0</th>\n      <td>2011-02-09</td>\n      <td>10.926702</td>\n      <td>11.043910</td>\n      <td>10.916859</td>\n      <td>11.018068</td>\n      <td>482745200</td>\n    </tr>\n    <tr>\n      <th>1</th>\n      <td>2011-02-10</td>\n      <td>10.994382</td>\n      <td>11.074673</td>\n      <td>10.705516</td>\n      <td>10.906707</td>\n      <td>928550000</td>\n    </tr>\n    <tr>\n      <th>2</th>\n      <td>2011-02-11</td>\n      <td>10.913166</td>\n      <td>11.006992</td>\n      <td>10.875942</td>\n      <td>10.977768</td>\n      <td>367572800</td>\n    </tr>\n    <tr>\n      <th>3</th>\n      <td>2011-02-14</td>\n      <td>10.975924</td>\n      <td>11.058675</td>\n      <td>10.973463</td>\n      <td>11.049447</td>\n      <td>310416400</td>\n    </tr>\n    <tr>\n      <th>4</th>\n      <td>2011-02-15</td>\n      <td>11.049754</td>\n      <td>11.073750</td>\n      <td>10.999304</td>\n      <td>11.071596</td>\n      <td>284174800</td>\n    </tr>\n  </tbody>\n</table>\n</div>"
     },
     "metadata": {},
     "execution_count": 2
    }
   ],
   "source": [
    "df = pd.read_csv('/Users/bowenduan/Applications/OneDrive/200_Knowledge/210_Academe/211_University/PACE University/105_Spring 2021/CS668 Analytics Capstone/CS668-2021/data/AAPL.csv')\n",
    "df.head()"
   ]
  },
  {
   "cell_type": "code",
   "execution_count": 3,
   "metadata": {},
   "outputs": [
    {
     "output_type": "execute_result",
     "data": {
      "text/plain": [
       "         Date       Open       High        Low      Close     Volume  \\\n",
       "0  2011-02-09  10.926702  11.043910  10.916859  11.018068  482745200   \n",
       "1  2011-02-10  10.994382  11.074673  10.705516  10.906707  928550000   \n",
       "2  2011-02-11  10.913166  11.006992  10.875942  10.977768  367572800   \n",
       "3  2011-02-14  10.975924  11.058675  10.973463  11.049447  310416400   \n",
       "4  2011-02-15  11.049754  11.073750  10.999304  11.071596  284174800   \n",
       "\n",
       "    NxtClose  \n",
       "0  10.906707  \n",
       "1  10.977768  \n",
       "2  11.049447  \n",
       "3  11.071596  \n",
       "4  11.170958  "
      ],
      "text/html": "<div>\n<style scoped>\n    .dataframe tbody tr th:only-of-type {\n        vertical-align: middle;\n    }\n\n    .dataframe tbody tr th {\n        vertical-align: top;\n    }\n\n    .dataframe thead th {\n        text-align: right;\n    }\n</style>\n<table border=\"1\" class=\"dataframe\">\n  <thead>\n    <tr style=\"text-align: right;\">\n      <th></th>\n      <th>Date</th>\n      <th>Open</th>\n      <th>High</th>\n      <th>Low</th>\n      <th>Close</th>\n      <th>Volume</th>\n      <th>NxtClose</th>\n    </tr>\n  </thead>\n  <tbody>\n    <tr>\n      <th>0</th>\n      <td>2011-02-09</td>\n      <td>10.926702</td>\n      <td>11.043910</td>\n      <td>10.916859</td>\n      <td>11.018068</td>\n      <td>482745200</td>\n      <td>10.906707</td>\n    </tr>\n    <tr>\n      <th>1</th>\n      <td>2011-02-10</td>\n      <td>10.994382</td>\n      <td>11.074673</td>\n      <td>10.705516</td>\n      <td>10.906707</td>\n      <td>928550000</td>\n      <td>10.977768</td>\n    </tr>\n    <tr>\n      <th>2</th>\n      <td>2011-02-11</td>\n      <td>10.913166</td>\n      <td>11.006992</td>\n      <td>10.875942</td>\n      <td>10.977768</td>\n      <td>367572800</td>\n      <td>11.049447</td>\n    </tr>\n    <tr>\n      <th>3</th>\n      <td>2011-02-14</td>\n      <td>10.975924</td>\n      <td>11.058675</td>\n      <td>10.973463</td>\n      <td>11.049447</td>\n      <td>310416400</td>\n      <td>11.071596</td>\n    </tr>\n    <tr>\n      <th>4</th>\n      <td>2011-02-15</td>\n      <td>11.049754</td>\n      <td>11.073750</td>\n      <td>10.999304</td>\n      <td>11.071596</td>\n      <td>284174800</td>\n      <td>11.170958</td>\n    </tr>\n  </tbody>\n</table>\n</div>"
     },
     "metadata": {},
     "execution_count": 3
    }
   ],
   "source": [
    "# get the previouse day close to label the data\n",
    "df['NxtClose'] = df['Close'].shift(-1)\n",
    "df.head()"
   ]
  },
  {
   "cell_type": "code",
   "execution_count": 4,
   "metadata": {},
   "outputs": [
    {
     "output_type": "execute_result",
     "data": {
      "text/plain": [
       "         Date       Open       High        Low      Close     Volume  \\\n",
       "0  2011-02-09  10.926702  11.043910  10.916859  11.018068  482745200   \n",
       "1  2011-02-10  10.994382  11.074673  10.705516  10.906707  928550000   \n",
       "2  2011-02-11  10.913166  11.006992  10.875942  10.977768  367572800   \n",
       "3  2011-02-14  10.975924  11.058675  10.973463  11.049447  310416400   \n",
       "4  2011-02-15  11.049754  11.073750  10.999304  11.071596  284174800   \n",
       "\n",
       "    NxtClose   Ptc  sgn  \n",
       "0  10.906707 -1.01    0  \n",
       "1  10.977768  0.65    1  \n",
       "2  11.049447  0.65    1  \n",
       "3  11.071596  0.20    1  \n",
       "4  11.170958  0.90    1  "
      ],
      "text/html": "<div>\n<style scoped>\n    .dataframe tbody tr th:only-of-type {\n        vertical-align: middle;\n    }\n\n    .dataframe tbody tr th {\n        vertical-align: top;\n    }\n\n    .dataframe thead th {\n        text-align: right;\n    }\n</style>\n<table border=\"1\" class=\"dataframe\">\n  <thead>\n    <tr style=\"text-align: right;\">\n      <th></th>\n      <th>Date</th>\n      <th>Open</th>\n      <th>High</th>\n      <th>Low</th>\n      <th>Close</th>\n      <th>Volume</th>\n      <th>NxtClose</th>\n      <th>Ptc</th>\n      <th>sgn</th>\n    </tr>\n  </thead>\n  <tbody>\n    <tr>\n      <th>0</th>\n      <td>2011-02-09</td>\n      <td>10.926702</td>\n      <td>11.043910</td>\n      <td>10.916859</td>\n      <td>11.018068</td>\n      <td>482745200</td>\n      <td>10.906707</td>\n      <td>-1.01</td>\n      <td>0</td>\n    </tr>\n    <tr>\n      <th>1</th>\n      <td>2011-02-10</td>\n      <td>10.994382</td>\n      <td>11.074673</td>\n      <td>10.705516</td>\n      <td>10.906707</td>\n      <td>928550000</td>\n      <td>10.977768</td>\n      <td>0.65</td>\n      <td>1</td>\n    </tr>\n    <tr>\n      <th>2</th>\n      <td>2011-02-11</td>\n      <td>10.913166</td>\n      <td>11.006992</td>\n      <td>10.875942</td>\n      <td>10.977768</td>\n      <td>367572800</td>\n      <td>11.049447</td>\n      <td>0.65</td>\n      <td>1</td>\n    </tr>\n    <tr>\n      <th>3</th>\n      <td>2011-02-14</td>\n      <td>10.975924</td>\n      <td>11.058675</td>\n      <td>10.973463</td>\n      <td>11.049447</td>\n      <td>310416400</td>\n      <td>11.071596</td>\n      <td>0.20</td>\n      <td>1</td>\n    </tr>\n    <tr>\n      <th>4</th>\n      <td>2011-02-15</td>\n      <td>11.049754</td>\n      <td>11.073750</td>\n      <td>10.999304</td>\n      <td>11.071596</td>\n      <td>284174800</td>\n      <td>11.170958</td>\n      <td>0.90</td>\n      <td>1</td>\n    </tr>\n  </tbody>\n</table>\n</div>"
     },
     "metadata": {},
     "execution_count": 4
    }
   ],
   "source": [
    "# label the observation \n",
    "# 1 for price going up, 0 for price going down\n",
    "# calculate the daily percent change\n",
    "df['Ptc'] = round(df['NxtClose']/df['Close'] - 1, 4)*100\n",
    "df['sgn'] = [1 if  x > 0 else 0 for x in df['Ptc']]\n",
    "df.head()"
   ]
  },
  {
   "source": [
    "### calculate variables"
   ],
   "cell_type": "markdown",
   "metadata": {}
  },
  {
   "cell_type": "code",
   "execution_count": 5,
   "metadata": {},
   "outputs": [
    {
     "output_type": "execute_result",
     "data": {
      "text/plain": [
       "            Date        Open        High         Low       Close    Volume  \\\n",
       "2511  2021-02-02  135.527476  136.106612  134.409152  134.788589  83305400   \n",
       "2512  2021-02-03  135.557435  135.567429  133.410649  133.740158  89880900   \n",
       "2513  2021-02-04  136.096628  137.194977  134.389172  137.184998  84183100   \n",
       "2514  2021-02-05  137.350006  137.419998  135.860001  136.759995  75524000   \n",
       "2515  2021-02-08  136.029999  136.949997  134.929993  136.910004  68005611   \n",
       "\n",
       "        NxtClose   Ptc  sgn         ma5        ma10        ma20        ma30  \\\n",
       "2511  133.740158 -0.78    0  135.845007  137.223946  133.172000  132.618494   \n",
       "2512  137.184998  2.58    1  134.223431  137.414662  133.318282  132.860799   \n",
       "2513  136.759995 -0.31    0  134.283340  137.466585  133.856977  133.165677   \n",
       "2514  136.910004  0.11    1  135.282718  137.256334  134.158744  133.334902   \n",
       "2515         NaN   NaN    0  135.876749  136.676659  134.411596  133.539749   \n",
       "\n",
       "            ma60      ma_vol5     ma_vol10      ma_vol20      ma_vol30  \\\n",
       "2511  126.467268  130038140.0  124494920.0  1.142834e+08  1.165266e+08   \n",
       "2512  126.718809  119845560.0  123051060.0  1.138942e+08  1.131046e+08   \n",
       "2513  127.030011  108157960.0  119416420.0  1.103490e+08  1.118690e+08   \n",
       "2514  127.373570   87826640.0  115578100.0  1.086463e+08  1.087563e+08   \n",
       "2515  127.725454   80179802.2  106617491.1  1.067983e+08  1.080824e+08   \n",
       "\n",
       "          ma_vol60  \n",
       "2511  1.084359e+08  \n",
       "2512  1.078274e+08  \n",
       "2513  1.073228e+08  \n",
       "2514  1.060063e+08  \n",
       "2515  1.048394e+08  "
      ],
      "text/html": "<div>\n<style scoped>\n    .dataframe tbody tr th:only-of-type {\n        vertical-align: middle;\n    }\n\n    .dataframe tbody tr th {\n        vertical-align: top;\n    }\n\n    .dataframe thead th {\n        text-align: right;\n    }\n</style>\n<table border=\"1\" class=\"dataframe\">\n  <thead>\n    <tr style=\"text-align: right;\">\n      <th></th>\n      <th>Date</th>\n      <th>Open</th>\n      <th>High</th>\n      <th>Low</th>\n      <th>Close</th>\n      <th>Volume</th>\n      <th>NxtClose</th>\n      <th>Ptc</th>\n      <th>sgn</th>\n      <th>ma5</th>\n      <th>ma10</th>\n      <th>ma20</th>\n      <th>ma30</th>\n      <th>ma60</th>\n      <th>ma_vol5</th>\n      <th>ma_vol10</th>\n      <th>ma_vol20</th>\n      <th>ma_vol30</th>\n      <th>ma_vol60</th>\n    </tr>\n  </thead>\n  <tbody>\n    <tr>\n      <th>2511</th>\n      <td>2021-02-02</td>\n      <td>135.527476</td>\n      <td>136.106612</td>\n      <td>134.409152</td>\n      <td>134.788589</td>\n      <td>83305400</td>\n      <td>133.740158</td>\n      <td>-0.78</td>\n      <td>0</td>\n      <td>135.845007</td>\n      <td>137.223946</td>\n      <td>133.172000</td>\n      <td>132.618494</td>\n      <td>126.467268</td>\n      <td>130038140.0</td>\n      <td>124494920.0</td>\n      <td>1.142834e+08</td>\n      <td>1.165266e+08</td>\n      <td>1.084359e+08</td>\n    </tr>\n    <tr>\n      <th>2512</th>\n      <td>2021-02-03</td>\n      <td>135.557435</td>\n      <td>135.567429</td>\n      <td>133.410649</td>\n      <td>133.740158</td>\n      <td>89880900</td>\n      <td>137.184998</td>\n      <td>2.58</td>\n      <td>1</td>\n      <td>134.223431</td>\n      <td>137.414662</td>\n      <td>133.318282</td>\n      <td>132.860799</td>\n      <td>126.718809</td>\n      <td>119845560.0</td>\n      <td>123051060.0</td>\n      <td>1.138942e+08</td>\n      <td>1.131046e+08</td>\n      <td>1.078274e+08</td>\n    </tr>\n    <tr>\n      <th>2513</th>\n      <td>2021-02-04</td>\n      <td>136.096628</td>\n      <td>137.194977</td>\n      <td>134.389172</td>\n      <td>137.184998</td>\n      <td>84183100</td>\n      <td>136.759995</td>\n      <td>-0.31</td>\n      <td>0</td>\n      <td>134.283340</td>\n      <td>137.466585</td>\n      <td>133.856977</td>\n      <td>133.165677</td>\n      <td>127.030011</td>\n      <td>108157960.0</td>\n      <td>119416420.0</td>\n      <td>1.103490e+08</td>\n      <td>1.118690e+08</td>\n      <td>1.073228e+08</td>\n    </tr>\n    <tr>\n      <th>2514</th>\n      <td>2021-02-05</td>\n      <td>137.350006</td>\n      <td>137.419998</td>\n      <td>135.860001</td>\n      <td>136.759995</td>\n      <td>75524000</td>\n      <td>136.910004</td>\n      <td>0.11</td>\n      <td>1</td>\n      <td>135.282718</td>\n      <td>137.256334</td>\n      <td>134.158744</td>\n      <td>133.334902</td>\n      <td>127.373570</td>\n      <td>87826640.0</td>\n      <td>115578100.0</td>\n      <td>1.086463e+08</td>\n      <td>1.087563e+08</td>\n      <td>1.060063e+08</td>\n    </tr>\n    <tr>\n      <th>2515</th>\n      <td>2021-02-08</td>\n      <td>136.029999</td>\n      <td>136.949997</td>\n      <td>134.929993</td>\n      <td>136.910004</td>\n      <td>68005611</td>\n      <td>NaN</td>\n      <td>NaN</td>\n      <td>0</td>\n      <td>135.876749</td>\n      <td>136.676659</td>\n      <td>134.411596</td>\n      <td>133.539749</td>\n      <td>127.725454</td>\n      <td>80179802.2</td>\n      <td>106617491.1</td>\n      <td>1.067983e+08</td>\n      <td>1.080824e+08</td>\n      <td>1.048394e+08</td>\n    </tr>\n  </tbody>\n</table>\n</div>"
     },
     "metadata": {},
     "execution_count": 5
    }
   ],
   "source": [
    "# calculate ratios as machine learning variables \n",
    "# these ratio calculation will be done by ta-lib\n",
    "from talib import abstract\n",
    "\n",
    "# moving average \n",
    "ma_list = [5, 10, 20, 30, 60]\n",
    "for i in ma_list:\n",
    "    df[f'ma{i}'] = pd.Series(abstract.SMA(df, timeperiod = i,price = 'Close'), index = df.index)\n",
    "\n",
    "# volumne moving average     \n",
    "ma_vol_list = [5, 10, 20, 30, 60]\n",
    "for i in ma_vol_list:\n",
    "    df[f'ma_vol{i}'] = pd.Series(abstract.SMA(df, timeperiod = i, price = 'Volume'), index = df.index)\n",
    "\n",
    "df.tail()"
   ]
  },
  {
   "source": [
    "### clean data"
   ],
   "cell_type": "markdown",
   "metadata": {}
  },
  {
   "cell_type": "code",
   "execution_count": 6,
   "metadata": {},
   "outputs": [],
   "source": [
    "# reset index to datatime\n",
    "# delet Next day close (future value)\n",
    "# delet Ptc (future vale)\n",
    "df = df.set_index(['Date'])\n",
    "df = df.drop(['NxtClose','Ptc'], axis= 1)"
   ]
  },
  {
   "cell_type": "code",
   "execution_count": 7,
   "metadata": {},
   "outputs": [
    {
     "output_type": "execute_result",
     "data": {
      "text/plain": [
       "                  Open        High         Low       Close    Volume  sgn  \\\n",
       "Date                                                                        \n",
       "2021-02-02  135.527476  136.106612  134.409152  134.788589  83305400    0   \n",
       "2021-02-03  135.557435  135.567429  133.410649  133.740158  89880900    1   \n",
       "2021-02-04  136.096628  137.194977  134.389172  137.184998  84183100    0   \n",
       "2021-02-05  137.350006  137.419998  135.860001  136.759995  75524000    1   \n",
       "2021-02-08  136.029999  136.949997  134.929993  136.910004  68005611    0   \n",
       "\n",
       "                   ma5        ma10        ma20        ma30        ma60  \\\n",
       "Date                                                                     \n",
       "2021-02-02  135.845007  137.223946  133.172000  132.618494  126.467268   \n",
       "2021-02-03  134.223431  137.414662  133.318282  132.860799  126.718809   \n",
       "2021-02-04  134.283340  137.466585  133.856977  133.165677  127.030011   \n",
       "2021-02-05  135.282718  137.256334  134.158744  133.334902  127.373570   \n",
       "2021-02-08  135.876749  136.676659  134.411596  133.539749  127.725454   \n",
       "\n",
       "                ma_vol5     ma_vol10      ma_vol20      ma_vol30      ma_vol60  \n",
       "Date                                                                            \n",
       "2021-02-02  130038140.0  124494920.0  1.142834e+08  1.165266e+08  1.084359e+08  \n",
       "2021-02-03  119845560.0  123051060.0  1.138942e+08  1.131046e+08  1.078274e+08  \n",
       "2021-02-04  108157960.0  119416420.0  1.103490e+08  1.118690e+08  1.073228e+08  \n",
       "2021-02-05   87826640.0  115578100.0  1.086463e+08  1.087563e+08  1.060063e+08  \n",
       "2021-02-08   80179802.2  106617491.1  1.067983e+08  1.080824e+08  1.048394e+08  "
      ],
      "text/html": "<div>\n<style scoped>\n    .dataframe tbody tr th:only-of-type {\n        vertical-align: middle;\n    }\n\n    .dataframe tbody tr th {\n        vertical-align: top;\n    }\n\n    .dataframe thead th {\n        text-align: right;\n    }\n</style>\n<table border=\"1\" class=\"dataframe\">\n  <thead>\n    <tr style=\"text-align: right;\">\n      <th></th>\n      <th>Open</th>\n      <th>High</th>\n      <th>Low</th>\n      <th>Close</th>\n      <th>Volume</th>\n      <th>sgn</th>\n      <th>ma5</th>\n      <th>ma10</th>\n      <th>ma20</th>\n      <th>ma30</th>\n      <th>ma60</th>\n      <th>ma_vol5</th>\n      <th>ma_vol10</th>\n      <th>ma_vol20</th>\n      <th>ma_vol30</th>\n      <th>ma_vol60</th>\n    </tr>\n    <tr>\n      <th>Date</th>\n      <th></th>\n      <th></th>\n      <th></th>\n      <th></th>\n      <th></th>\n      <th></th>\n      <th></th>\n      <th></th>\n      <th></th>\n      <th></th>\n      <th></th>\n      <th></th>\n      <th></th>\n      <th></th>\n      <th></th>\n      <th></th>\n    </tr>\n  </thead>\n  <tbody>\n    <tr>\n      <th>2021-02-02</th>\n      <td>135.527476</td>\n      <td>136.106612</td>\n      <td>134.409152</td>\n      <td>134.788589</td>\n      <td>83305400</td>\n      <td>0</td>\n      <td>135.845007</td>\n      <td>137.223946</td>\n      <td>133.172000</td>\n      <td>132.618494</td>\n      <td>126.467268</td>\n      <td>130038140.0</td>\n      <td>124494920.0</td>\n      <td>1.142834e+08</td>\n      <td>1.165266e+08</td>\n      <td>1.084359e+08</td>\n    </tr>\n    <tr>\n      <th>2021-02-03</th>\n      <td>135.557435</td>\n      <td>135.567429</td>\n      <td>133.410649</td>\n      <td>133.740158</td>\n      <td>89880900</td>\n      <td>1</td>\n      <td>134.223431</td>\n      <td>137.414662</td>\n      <td>133.318282</td>\n      <td>132.860799</td>\n      <td>126.718809</td>\n      <td>119845560.0</td>\n      <td>123051060.0</td>\n      <td>1.138942e+08</td>\n      <td>1.131046e+08</td>\n      <td>1.078274e+08</td>\n    </tr>\n    <tr>\n      <th>2021-02-04</th>\n      <td>136.096628</td>\n      <td>137.194977</td>\n      <td>134.389172</td>\n      <td>137.184998</td>\n      <td>84183100</td>\n      <td>0</td>\n      <td>134.283340</td>\n      <td>137.466585</td>\n      <td>133.856977</td>\n      <td>133.165677</td>\n      <td>127.030011</td>\n      <td>108157960.0</td>\n      <td>119416420.0</td>\n      <td>1.103490e+08</td>\n      <td>1.118690e+08</td>\n      <td>1.073228e+08</td>\n    </tr>\n    <tr>\n      <th>2021-02-05</th>\n      <td>137.350006</td>\n      <td>137.419998</td>\n      <td>135.860001</td>\n      <td>136.759995</td>\n      <td>75524000</td>\n      <td>1</td>\n      <td>135.282718</td>\n      <td>137.256334</td>\n      <td>134.158744</td>\n      <td>133.334902</td>\n      <td>127.373570</td>\n      <td>87826640.0</td>\n      <td>115578100.0</td>\n      <td>1.086463e+08</td>\n      <td>1.087563e+08</td>\n      <td>1.060063e+08</td>\n    </tr>\n    <tr>\n      <th>2021-02-08</th>\n      <td>136.029999</td>\n      <td>136.949997</td>\n      <td>134.929993</td>\n      <td>136.910004</td>\n      <td>68005611</td>\n      <td>0</td>\n      <td>135.876749</td>\n      <td>136.676659</td>\n      <td>134.411596</td>\n      <td>133.539749</td>\n      <td>127.725454</td>\n      <td>80179802.2</td>\n      <td>106617491.1</td>\n      <td>1.067983e+08</td>\n      <td>1.080824e+08</td>\n      <td>1.048394e+08</td>\n    </tr>\n  </tbody>\n</table>\n</div>"
     },
     "metadata": {},
     "execution_count": 7
    }
   ],
   "source": [
    "df.tail()"
   ]
  },
  {
   "source": [
    "## prepare training data"
   ],
   "cell_type": "markdown",
   "metadata": {}
  },
  {
   "cell_type": "code",
   "execution_count": 8,
   "metadata": {},
   "outputs": [],
   "source": [
    "df = df.dropna(axis=0)"
   ]
  },
  {
   "cell_type": "code",
   "execution_count": 9,
   "metadata": {},
   "outputs": [
    {
     "output_type": "stream",
     "name": "stdout",
     "text": [
      "Up record has 878 row, while the down records have 824 row \n\n"
     ]
    }
   ],
   "source": [
    "# training period: 20130228~20180228\n",
    "df_train = df[df.index < '2018-02-08' ]\n",
    "# resample the training data \n",
    "sgn_1 = df_train[df_train['sgn'] == 1]\n",
    "sgn_0 = df_train[df_train['sgn'] == 0]\n",
    "len_1 = len(sgn_1)\n",
    "len_0 = len(sgn_0)\n",
    "print(f'Up record has {len_1} row, while the down records have {len_0} row \\n')\n"
   ]
  },
  {
   "cell_type": "code",
   "execution_count": 10,
   "metadata": {},
   "outputs": [
    {
     "output_type": "stream",
     "name": "stdout",
     "text": [
      "after resample, the records situation is: \n 1    878\n0    878\nName: sgn, dtype: int64\n1756 row training data is prepated.\n"
     ]
    }
   ],
   "source": [
    "from sklearn.utils import resample\n",
    "#resample\n",
    "df_majority = sgn_1\n",
    "df_minority = sgn_0\n",
    "\n",
    "# Upsample minority class\n",
    "df_minority_upsampled = resample(df_minority, \n",
    "                                 replace=True,     # sample with replacement\n",
    "                                 n_samples= len_1,    # to match majority class\n",
    "                                 random_state=42) # reproducible results\n",
    "# Combine majority class with upsampled minority class\n",
    "df_train = pd.concat([df_majority, df_minority_upsampled])\n",
    " \n",
    "# Display new class counts\n",
    "print('after resample, the records situation is: \\n',df_train.sgn.value_counts())\n",
    "df_train_x = df_train.drop(['sgn'], axis=1)\n",
    "df_train_y = df_train['sgn']\n",
    "print(f'{len(df_train_x)} row training data is prepated.')\n"
   ]
  },
  {
   "source": [
    "## Prapre test data "
   ],
   "cell_type": "markdown",
   "metadata": {}
  },
  {
   "cell_type": "code",
   "execution_count": 11,
   "metadata": {},
   "outputs": [
    {
     "output_type": "stream",
     "name": "stdout",
     "text": [
      "502 row test data is prepared. \n\n"
     ]
    }
   ],
   "source": [
    "# testing period: 20180228~20190228\n",
    "df_test = df[(df.index > '2018-02-08') & (df.index < '2020-02-08')]\n",
    "df_test_x = df_test.drop(['sgn'], axis=1)\n",
    "df_test_y = df_test['sgn']\n",
    "print(f'{len(df_test_x)} row test data is prepared. \\n')"
   ]
  },
  {
   "source": [
    "## train model"
   ],
   "cell_type": "markdown",
   "metadata": {}
  },
  {
   "cell_type": "code",
   "execution_count": 12,
   "metadata": {},
   "outputs": [],
   "source": [
    "from sklearn.ensemble import RandomForestClassifier\n",
    "from joblib import dump, load\n",
    "\n",
    "clf = RandomForestClassifier(max_depth=2, random_state=42)\n",
    "clf_model = clf.fit(df_train_x,df_train_y)\n",
    "dump(clf_model, 'AAPL_model.joblib')\n",
    "df_test_predict =  clf_model.predict(df_test_x)\n",
    "#save prediction results\n",
    "df_test['predict'] = df_test_predict  \n",
    "df_test.to_csv('AAPL_test_predict.csv')"
   ]
  },
  {
   "cell_type": "code",
   "execution_count": 13,
   "metadata": {},
   "outputs": [
    {
     "output_type": "stream",
     "name": "stdout",
     "text": [
      "classification reports \n\n[[225   0]\n [277   0]]\nAccuracy rate is 0.448207171314741\n"
     ]
    }
   ],
   "source": [
    "# test model\n",
    "from sklearn.metrics import confusion_matrix\n",
    "from sklearn.metrics import accuracy_score\n",
    "\n",
    "print(f'classification reports \\n')\n",
    "print(confusion_matrix(df_test_y, df_test_predict))\n",
    "print(f'Accuracy rate is {accuracy_score(df_test_y, df_test_predict)}')"
   ]
  },
  {
   "source": [
    "## predition on new data and assign singal"
   ],
   "cell_type": "markdown",
   "metadata": {}
  },
  {
   "cell_type": "code",
   "execution_count": 14,
   "metadata": {},
   "outputs": [],
   "source": [
    "# paper trading period: 20200208 ~ 20210208\n",
    "# print('Starting Prediction on trading date')\n",
    "df_trade = df[df.index > '2020-02-08'].drop('sgn', axis=1)\n",
    "# load model\n",
    "model = load('AAPL_model.joblib')\n",
    "df_trade['predict'] = model.predict(df_trade)\n",
    "# save prediction file \n",
    "df_trade.to_csv('AAPL_prediction_sgn.csv')"
   ]
  },
  {
   "source": [
    "## back testing"
   ],
   "cell_type": "markdown",
   "metadata": {}
  }
 ]
}