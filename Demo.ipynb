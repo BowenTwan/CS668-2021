{
 "metadata": {
  "language_info": {
   "codemirror_mode": {
    "name": "ipython",
    "version": 3
   },
   "file_extension": ".py",
   "mimetype": "text/x-python",
   "name": "python",
   "nbconvert_exporter": "python",
   "pygments_lexer": "ipython3",
   "version": "3.8.5-final"
  },
  "orig_nbformat": 2,
  "kernelspec": {
   "name": "python3",
   "display_name": "Python 3.8.5 64-bit ('260_Python': conda)",
   "metadata": {
    "interpreter": {
     "hash": "aa3d6490af8aef6045078465a6d43674d4154564c7ce69cb86b5e55268f426c4"
    }
   }
  }
 },
 "nbformat": 4,
 "nbformat_minor": 2,
 "cells": [
  {
   "cell_type": "code",
   "execution_count": 2,
   "metadata": {},
   "outputs": [],
   "source": [
    "import pandas as pd\n",
    "import yfinance as yf"
   ]
  },
  {
   "cell_type": "code",
   "execution_count": 4,
   "metadata": {},
   "outputs": [
    {
     "output_type": "execute_result",
     "data": {
      "text/plain": [
       "         Date       Open       High        Low      Close     Volume\n",
       "0  2011-02-09  10.926702  11.043910  10.916859  11.018068  482745200\n",
       "1  2011-02-10  10.994382  11.074673  10.705516  10.906707  928550000\n",
       "2  2011-02-11  10.913166  11.006992  10.875942  10.977768  367572800\n",
       "3  2011-02-14  10.975924  11.058675  10.973463  11.049447  310416400\n",
       "4  2011-02-15  11.049754  11.073750  10.999304  11.071596  284174800"
      ],
      "text/html": "<div>\n<style scoped>\n    .dataframe tbody tr th:only-of-type {\n        vertical-align: middle;\n    }\n\n    .dataframe tbody tr th {\n        vertical-align: top;\n    }\n\n    .dataframe thead th {\n        text-align: right;\n    }\n</style>\n<table border=\"1\" class=\"dataframe\">\n  <thead>\n    <tr style=\"text-align: right;\">\n      <th></th>\n      <th>Date</th>\n      <th>Open</th>\n      <th>High</th>\n      <th>Low</th>\n      <th>Close</th>\n      <th>Volume</th>\n    </tr>\n  </thead>\n  <tbody>\n    <tr>\n      <th>0</th>\n      <td>2011-02-09</td>\n      <td>10.926702</td>\n      <td>11.043910</td>\n      <td>10.916859</td>\n      <td>11.018068</td>\n      <td>482745200</td>\n    </tr>\n    <tr>\n      <th>1</th>\n      <td>2011-02-10</td>\n      <td>10.994382</td>\n      <td>11.074673</td>\n      <td>10.705516</td>\n      <td>10.906707</td>\n      <td>928550000</td>\n    </tr>\n    <tr>\n      <th>2</th>\n      <td>2011-02-11</td>\n      <td>10.913166</td>\n      <td>11.006992</td>\n      <td>10.875942</td>\n      <td>10.977768</td>\n      <td>367572800</td>\n    </tr>\n    <tr>\n      <th>3</th>\n      <td>2011-02-14</td>\n      <td>10.975924</td>\n      <td>11.058675</td>\n      <td>10.973463</td>\n      <td>11.049447</td>\n      <td>310416400</td>\n    </tr>\n    <tr>\n      <th>4</th>\n      <td>2011-02-15</td>\n      <td>11.049754</td>\n      <td>11.073750</td>\n      <td>10.999304</td>\n      <td>11.071596</td>\n      <td>284174800</td>\n    </tr>\n  </tbody>\n</table>\n</div>"
     },
     "metadata": {},
     "execution_count": 4
    }
   ],
   "source": [
    "df = pd.read_csv('/Users/bowenduan/Applications/OneDrive/200_Knowledge/210_Academe/211_University/PACE University/105_Spring 2021/CS668 Analytics Capstone/CS668-2021/data/AAPL.csv')\n",
    "df.head()"
   ]
  },
  {
   "cell_type": "code",
   "execution_count": 7,
   "metadata": {},
   "outputs": [
    {
     "output_type": "execute_result",
     "data": {
      "text/plain": [
       "         Date       Open       High        Low      Close     Volume  \\\n",
       "0  2011-02-09  10.926702  11.043910  10.916859  11.018068  482745200   \n",
       "1  2011-02-10  10.994382  11.074673  10.705516  10.906707  928550000   \n",
       "2  2011-02-11  10.913166  11.006992  10.875942  10.977768  367572800   \n",
       "3  2011-02-14  10.975924  11.058675  10.973463  11.049447  310416400   \n",
       "4  2011-02-15  11.049754  11.073750  10.999304  11.071596  284174800   \n",
       "\n",
       "    PreClose  \n",
       "0        NaN  \n",
       "1  11.018068  \n",
       "2  10.906707  \n",
       "3  10.977768  \n",
       "4  11.049447  "
      ],
      "text/html": "<div>\n<style scoped>\n    .dataframe tbody tr th:only-of-type {\n        vertical-align: middle;\n    }\n\n    .dataframe tbody tr th {\n        vertical-align: top;\n    }\n\n    .dataframe thead th {\n        text-align: right;\n    }\n</style>\n<table border=\"1\" class=\"dataframe\">\n  <thead>\n    <tr style=\"text-align: right;\">\n      <th></th>\n      <th>Date</th>\n      <th>Open</th>\n      <th>High</th>\n      <th>Low</th>\n      <th>Close</th>\n      <th>Volume</th>\n      <th>PreClose</th>\n    </tr>\n  </thead>\n  <tbody>\n    <tr>\n      <th>0</th>\n      <td>2011-02-09</td>\n      <td>10.926702</td>\n      <td>11.043910</td>\n      <td>10.916859</td>\n      <td>11.018068</td>\n      <td>482745200</td>\n      <td>NaN</td>\n    </tr>\n    <tr>\n      <th>1</th>\n      <td>2011-02-10</td>\n      <td>10.994382</td>\n      <td>11.074673</td>\n      <td>10.705516</td>\n      <td>10.906707</td>\n      <td>928550000</td>\n      <td>11.018068</td>\n    </tr>\n    <tr>\n      <th>2</th>\n      <td>2011-02-11</td>\n      <td>10.913166</td>\n      <td>11.006992</td>\n      <td>10.875942</td>\n      <td>10.977768</td>\n      <td>367572800</td>\n      <td>10.906707</td>\n    </tr>\n    <tr>\n      <th>3</th>\n      <td>2011-02-14</td>\n      <td>10.975924</td>\n      <td>11.058675</td>\n      <td>10.973463</td>\n      <td>11.049447</td>\n      <td>310416400</td>\n      <td>10.977768</td>\n    </tr>\n    <tr>\n      <th>4</th>\n      <td>2011-02-15</td>\n      <td>11.049754</td>\n      <td>11.073750</td>\n      <td>10.999304</td>\n      <td>11.071596</td>\n      <td>284174800</td>\n      <td>11.049447</td>\n    </tr>\n  </tbody>\n</table>\n</div>"
     },
     "metadata": {},
     "execution_count": 7
    }
   ],
   "source": [
    "# get the previouse day close to label the data\n",
    "df['PreClose'] = df['Close'].shift(1)\n",
    "df.head()"
   ]
  },
  {
   "cell_type": "code",
   "execution_count": 11,
   "metadata": {},
   "outputs": [
    {
     "output_type": "execute_result",
     "data": {
      "text/plain": [
       "         Date       Open       High        Low      Close     Volume  \\\n",
       "0  2011-02-09  10.926702  11.043910  10.916859  11.018068  482745200   \n",
       "1  2011-02-10  10.994382  11.074673  10.705516  10.906707  928550000   \n",
       "2  2011-02-11  10.913166  11.006992  10.875942  10.977768  367572800   \n",
       "3  2011-02-14  10.975924  11.058675  10.973463  11.049447  310416400   \n",
       "4  2011-02-15  11.049754  11.073750  10.999304  11.071596  284174800   \n",
       "\n",
       "    PreClose   Ptc  sgn  \n",
       "0        NaN   NaN    0  \n",
       "1  11.018068 -1.01    0  \n",
       "2  10.906707  0.65    1  \n",
       "3  10.977768  0.65    1  \n",
       "4  11.049447  0.20    1  "
      ],
      "text/html": "<div>\n<style scoped>\n    .dataframe tbody tr th:only-of-type {\n        vertical-align: middle;\n    }\n\n    .dataframe tbody tr th {\n        vertical-align: top;\n    }\n\n    .dataframe thead th {\n        text-align: right;\n    }\n</style>\n<table border=\"1\" class=\"dataframe\">\n  <thead>\n    <tr style=\"text-align: right;\">\n      <th></th>\n      <th>Date</th>\n      <th>Open</th>\n      <th>High</th>\n      <th>Low</th>\n      <th>Close</th>\n      <th>Volume</th>\n      <th>PreClose</th>\n      <th>Ptc</th>\n      <th>sgn</th>\n    </tr>\n  </thead>\n  <tbody>\n    <tr>\n      <th>0</th>\n      <td>2011-02-09</td>\n      <td>10.926702</td>\n      <td>11.043910</td>\n      <td>10.916859</td>\n      <td>11.018068</td>\n      <td>482745200</td>\n      <td>NaN</td>\n      <td>NaN</td>\n      <td>0</td>\n    </tr>\n    <tr>\n      <th>1</th>\n      <td>2011-02-10</td>\n      <td>10.994382</td>\n      <td>11.074673</td>\n      <td>10.705516</td>\n      <td>10.906707</td>\n      <td>928550000</td>\n      <td>11.018068</td>\n      <td>-1.01</td>\n      <td>0</td>\n    </tr>\n    <tr>\n      <th>2</th>\n      <td>2011-02-11</td>\n      <td>10.913166</td>\n      <td>11.006992</td>\n      <td>10.875942</td>\n      <td>10.977768</td>\n      <td>367572800</td>\n      <td>10.906707</td>\n      <td>0.65</td>\n      <td>1</td>\n    </tr>\n    <tr>\n      <th>3</th>\n      <td>2011-02-14</td>\n      <td>10.975924</td>\n      <td>11.058675</td>\n      <td>10.973463</td>\n      <td>11.049447</td>\n      <td>310416400</td>\n      <td>10.977768</td>\n      <td>0.65</td>\n      <td>1</td>\n    </tr>\n    <tr>\n      <th>4</th>\n      <td>2011-02-15</td>\n      <td>11.049754</td>\n      <td>11.073750</td>\n      <td>10.999304</td>\n      <td>11.071596</td>\n      <td>284174800</td>\n      <td>11.049447</td>\n      <td>0.20</td>\n      <td>1</td>\n    </tr>\n  </tbody>\n</table>\n</div>"
     },
     "metadata": {},
     "execution_count": 11
    }
   ],
   "source": [
    "# label the observation \n",
    "# 1 for price going up, 0 for price going down\n",
    "# calculate the daily percent change\n",
    "df['Ptc'] = round(df['Close']/df['PreClose'] - 1, 4)*100\n",
    "df['sgn'] = [1 if  x > 0 else 0 for x in df['Ptc']]\n",
    "df.head()"
   ]
  },
  {
   "cell_type": "code",
   "execution_count": null,
   "metadata": {},
   "outputs": [],
   "source": []
  }
 ]
}